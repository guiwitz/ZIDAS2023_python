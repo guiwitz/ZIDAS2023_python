{
 "cells": [
  {
   "cell_type": "markdown",
   "id": "2a07a46e-f6fa-47b3-ab1b-1f0d15eef11d",
   "metadata": {},
   "source": [
    "# Python, Jupyter, napari demo notebook ZIDAS 2023\n",
    "\n",
    "The image can be read directly from the web or downloaded locally using     'https://github.com/guiwitz/PyImageCourse_beginner/raw/master/images/19838_1252_F8_1.tif')"
   ]
  },
  {
   "cell_type": "markdown",
   "id": "5d734dfb-53a5-4007-8d0a-5e8c1141d44e",
   "metadata": {},
   "source": [
    "## 1. Import image"
   ]
  },
  {
   "cell_type": "code",
   "execution_count": 1,
   "id": "bacaefb1-9638-4652-ade4-000f766d57b6",
   "metadata": {},
   "outputs": [],
   "source": [
    "import skimage\n",
    "image = skimage.io.imread('19838_1252_F8_1.tiff')"
   ]
  },
  {
   "cell_type": "code",
   "execution_count": 2,
   "id": "fb3bebfe-b385-4cd1-8f2a-cdab5e8b03ed",
   "metadata": {},
   "outputs": [
    {
     "data": {
      "text/plain": [
       "(2048, 2048, 3)"
      ]
     },
     "execution_count": 2,
     "metadata": {},
     "output_type": "execute_result"
    }
   ],
   "source": [
    "image.shape"
   ]
  },
  {
   "cell_type": "markdown",
   "id": "5e632438-b502-4e8a-b1e3-2fd984add1e1",
   "metadata": {},
   "source": [
    "## 2. Filter third channel and threshold"
   ]
  },
  {
   "cell_type": "code",
   "execution_count": 4,
   "id": "96ab7698-dc82-493f-badb-2a27c968dddd",
   "metadata": {},
   "outputs": [],
   "source": [
    "nucl_channel = 2\n",
    "image_gauss = skimage.filters.gaussian(image[:,:,nucl_channel])"
   ]
  },
  {
   "cell_type": "code",
   "execution_count": 5,
   "id": "87686fbe-7f80-4d0d-b3d6-216bb13d17c3",
   "metadata": {},
   "outputs": [],
   "source": [
    "threshold = skimage.filters.threshold_otsu(image_gauss)"
   ]
  },
  {
   "cell_type": "markdown",
   "id": "b307e0ba-69e9-4eb6-a56c-c8847e0ded46",
   "metadata": {},
   "source": [
    "## 3. Create mask and detect objects"
   ]
  },
  {
   "cell_type": "code",
   "execution_count": 6,
   "id": "0753f47d-dcde-4eb2-83a1-1218bc3ef327",
   "metadata": {},
   "outputs": [],
   "source": [
    "mask = image_gauss > threshold"
   ]
  },
  {
   "cell_type": "code",
   "execution_count": 7,
   "id": "0ad21a89-9a5e-433b-a856-e89b4b354b94",
   "metadata": {},
   "outputs": [],
   "source": [
    "image_labels = skimage.morphology.label(mask)"
   ]
  },
  {
   "cell_type": "markdown",
   "id": "bc22235b-232a-46a9-b96f-c1ae3185f931",
   "metadata": {},
   "source": [
    "## 4. Visualization"
   ]
  },
  {
   "cell_type": "code",
   "execution_count": 9,
   "id": "3bb970d1-ee4b-45f8-b8d5-fdd8783ad6ff",
   "metadata": {},
   "outputs": [],
   "source": [
    "import napari"
   ]
  },
  {
   "cell_type": "code",
   "execution_count": 10,
   "id": "16f67421-05ea-4397-89ac-2e0d14142349",
   "metadata": {},
   "outputs": [],
   "source": [
    "viewer = napari.Viewer()"
   ]
  },
  {
   "cell_type": "code",
   "execution_count": 11,
   "id": "94e5d9a1-c40f-4f8d-8391-117dab833028",
   "metadata": {},
   "outputs": [],
   "source": [
    "viewer.add_image(image, channel_axis=2);"
   ]
  },
  {
   "cell_type": "code",
   "execution_count": 12,
   "id": "32a748c6-f780-4db9-85cd-4cb4564491aa",
   "metadata": {},
   "outputs": [],
   "source": [
    "viewer.add_labels(image_labels);"
   ]
  },
  {
   "cell_type": "markdown",
   "id": "831c0976-d073-462f-8c3b-e06012bd2b0b",
   "metadata": {},
   "source": [
    "## 5. Recover annotated data and measure"
   ]
  },
  {
   "cell_type": "code",
   "execution_count": 14,
   "id": "65ee966b-95ec-4396-b38a-7380a2ad98eb",
   "metadata": {},
   "outputs": [],
   "source": [
    "new_labels = viewer.layers['image_labels'].data"
   ]
  },
  {
   "cell_type": "code",
   "execution_count": 15,
   "id": "f73d6493-41c5-456c-8097-c604633d33dd",
   "metadata": {},
   "outputs": [],
   "source": [
    "measurements = skimage.measure.regionprops_table(\n",
    "    label_image=new_labels,\n",
    "    intensity_image=image[:,:,0],\n",
    "    properties=('area', 'mean_intensity'))"
   ]
  },
  {
   "cell_type": "code",
   "execution_count": 16,
   "id": "42e6e035-9f5f-4e26-b8c3-124eb779bacd",
   "metadata": {},
   "outputs": [
    {
     "data": {
      "text/plain": [
       "{'area': array([9.0160e+03, 1.4167e+04, 5.0000e+00, 8.5000e+01, 1.9405e+04,\n",
       "        5.6000e+01, 8.0000e+00, 2.8033e+04, 2.0000e+00, 1.0000e+00,\n",
       "        6.2000e+01, 1.0000e+01, 1.5387e+04, 2.0516e+04, 3.1189e+04,\n",
       "        2.0000e+00, 3.0781e+04, 3.2867e+04, 3.0000e+00, 2.1996e+04,\n",
       "        2.3465e+04]),\n",
       " 'mean_intensity': array([39.42269299, 20.29328722, 43.4       , 62.16470588, 17.4158722 ,\n",
       "        56.94642857, 48.5       , 16.06445974, 10.        , 20.        ,\n",
       "         5.25806452, 25.5       , 10.78897771, 10.68863326, 11.23296675,\n",
       "         1.5       , 10.67492934,  7.08160161, 13.66666667, 15.71617567,\n",
       "        12.21581078])}"
      ]
     },
     "execution_count": 16,
     "metadata": {},
     "output_type": "execute_result"
    }
   ],
   "source": [
    "measurements"
   ]
  },
  {
   "cell_type": "markdown",
   "id": "f6252655-8df5-4946-8e7c-a3d7424b4c22",
   "metadata": {},
   "source": [
    "## 6. Post-processing"
   ]
  },
  {
   "cell_type": "code",
   "execution_count": 17,
   "id": "436d00e1-87bb-4d88-9c75-bf9252c7e9f7",
   "metadata": {},
   "outputs": [],
   "source": [
    "import pandas as pd"
   ]
  },
  {
   "cell_type": "code",
   "execution_count": 18,
   "id": "6e29c546-794f-499b-ac69-90269bf2270a",
   "metadata": {},
   "outputs": [],
   "source": [
    "measurements_df = pd.DataFrame(measurements)"
   ]
  },
  {
   "cell_type": "code",
   "execution_count": 19,
   "id": "40a1783e-52e1-487b-b300-28ecf41b459f",
   "metadata": {},
   "outputs": [
    {
     "data": {
      "text/html": [
       "<div>\n",
       "<style scoped>\n",
       "    .dataframe tbody tr th:only-of-type {\n",
       "        vertical-align: middle;\n",
       "    }\n",
       "\n",
       "    .dataframe tbody tr th {\n",
       "        vertical-align: top;\n",
       "    }\n",
       "\n",
       "    .dataframe thead th {\n",
       "        text-align: right;\n",
       "    }\n",
       "</style>\n",
       "<table border=\"1\" class=\"dataframe\">\n",
       "  <thead>\n",
       "    <tr style=\"text-align: right;\">\n",
       "      <th></th>\n",
       "      <th>area</th>\n",
       "      <th>mean_intensity</th>\n",
       "    </tr>\n",
       "  </thead>\n",
       "  <tbody>\n",
       "    <tr>\n",
       "      <th>0</th>\n",
       "      <td>9016.0</td>\n",
       "      <td>39.422693</td>\n",
       "    </tr>\n",
       "    <tr>\n",
       "      <th>1</th>\n",
       "      <td>14167.0</td>\n",
       "      <td>20.293287</td>\n",
       "    </tr>\n",
       "    <tr>\n",
       "      <th>2</th>\n",
       "      <td>5.0</td>\n",
       "      <td>43.400000</td>\n",
       "    </tr>\n",
       "    <tr>\n",
       "      <th>3</th>\n",
       "      <td>85.0</td>\n",
       "      <td>62.164706</td>\n",
       "    </tr>\n",
       "    <tr>\n",
       "      <th>4</th>\n",
       "      <td>19405.0</td>\n",
       "      <td>17.415872</td>\n",
       "    </tr>\n",
       "    <tr>\n",
       "      <th>5</th>\n",
       "      <td>56.0</td>\n",
       "      <td>56.946429</td>\n",
       "    </tr>\n",
       "    <tr>\n",
       "      <th>6</th>\n",
       "      <td>8.0</td>\n",
       "      <td>48.500000</td>\n",
       "    </tr>\n",
       "    <tr>\n",
       "      <th>7</th>\n",
       "      <td>28033.0</td>\n",
       "      <td>16.064460</td>\n",
       "    </tr>\n",
       "    <tr>\n",
       "      <th>8</th>\n",
       "      <td>2.0</td>\n",
       "      <td>10.000000</td>\n",
       "    </tr>\n",
       "    <tr>\n",
       "      <th>9</th>\n",
       "      <td>1.0</td>\n",
       "      <td>20.000000</td>\n",
       "    </tr>\n",
       "    <tr>\n",
       "      <th>10</th>\n",
       "      <td>62.0</td>\n",
       "      <td>5.258065</td>\n",
       "    </tr>\n",
       "    <tr>\n",
       "      <th>11</th>\n",
       "      <td>10.0</td>\n",
       "      <td>25.500000</td>\n",
       "    </tr>\n",
       "    <tr>\n",
       "      <th>12</th>\n",
       "      <td>15387.0</td>\n",
       "      <td>10.788978</td>\n",
       "    </tr>\n",
       "    <tr>\n",
       "      <th>13</th>\n",
       "      <td>20516.0</td>\n",
       "      <td>10.688633</td>\n",
       "    </tr>\n",
       "    <tr>\n",
       "      <th>14</th>\n",
       "      <td>31189.0</td>\n",
       "      <td>11.232967</td>\n",
       "    </tr>\n",
       "    <tr>\n",
       "      <th>15</th>\n",
       "      <td>2.0</td>\n",
       "      <td>1.500000</td>\n",
       "    </tr>\n",
       "    <tr>\n",
       "      <th>16</th>\n",
       "      <td>30781.0</td>\n",
       "      <td>10.674929</td>\n",
       "    </tr>\n",
       "    <tr>\n",
       "      <th>17</th>\n",
       "      <td>32867.0</td>\n",
       "      <td>7.081602</td>\n",
       "    </tr>\n",
       "    <tr>\n",
       "      <th>18</th>\n",
       "      <td>3.0</td>\n",
       "      <td>13.666667</td>\n",
       "    </tr>\n",
       "    <tr>\n",
       "      <th>19</th>\n",
       "      <td>21996.0</td>\n",
       "      <td>15.716176</td>\n",
       "    </tr>\n",
       "    <tr>\n",
       "      <th>20</th>\n",
       "      <td>23465.0</td>\n",
       "      <td>12.215811</td>\n",
       "    </tr>\n",
       "  </tbody>\n",
       "</table>\n",
       "</div>"
      ],
      "text/plain": [
       "       area  mean_intensity\n",
       "0    9016.0       39.422693\n",
       "1   14167.0       20.293287\n",
       "2       5.0       43.400000\n",
       "3      85.0       62.164706\n",
       "4   19405.0       17.415872\n",
       "5      56.0       56.946429\n",
       "6       8.0       48.500000\n",
       "7   28033.0       16.064460\n",
       "8       2.0       10.000000\n",
       "9       1.0       20.000000\n",
       "10     62.0        5.258065\n",
       "11     10.0       25.500000\n",
       "12  15387.0       10.788978\n",
       "13  20516.0       10.688633\n",
       "14  31189.0       11.232967\n",
       "15      2.0        1.500000\n",
       "16  30781.0       10.674929\n",
       "17  32867.0        7.081602\n",
       "18      3.0       13.666667\n",
       "19  21996.0       15.716176\n",
       "20  23465.0       12.215811"
      ]
     },
     "execution_count": 19,
     "metadata": {},
     "output_type": "execute_result"
    }
   ],
   "source": [
    "measurements_df"
   ]
  },
  {
   "cell_type": "code",
   "execution_count": 20,
   "id": "8d64993c-0dff-488c-89ff-60fdb5bcdd8c",
   "metadata": {},
   "outputs": [],
   "source": [
    "# install missing package\n",
    "# beware this can potentially be \"dangerous\" but works most of the time\n",
    "#!pip install seaborn"
   ]
  },
  {
   "cell_type": "code",
   "execution_count": 21,
   "id": "9cd509e9-018c-4a6c-bae4-7f9d54bce79e",
   "metadata": {},
   "outputs": [],
   "source": [
    "import seaborn as sns"
   ]
  },
  {
   "cell_type": "code",
   "execution_count": 23,
   "id": "bd9d268c-f26f-4725-a345-3589cf6b8dc1",
   "metadata": {},
   "outputs": [
    {
     "data": {
      "text/plain": [
       "<Axes: xlabel='area', ylabel='mean_intensity'>"
      ]
     },
     "execution_count": 23,
     "metadata": {},
     "output_type": "execute_result"
    },
    {
     "data": {
      "image/png": "[encoded data removed]",
      "text/plain": [
       "<Figure size 640x480 with 1 Axes>"
      ]
     },
     "metadata": {},
     "output_type": "display_data"
    }
   ],
   "source": [
    "sns.scatterplot(\n",
    "    data=measurements_df,\n",
    "    x='area',\n",
    "    y='mean_intensity')"
   ]
  },
  {
   "cell_type": "code",
   "execution_count": null,
   "id": "4aef4183-7d23-4ab6-b834-a450701dd250",
   "metadata": {},
   "outputs": [],
   "source": []
  }
 ],
 "metadata": {
  "kernelspec": {
   "display_name": "Python 3 (ipykernel)",
   "language": "python",
   "name": "python3"
  },
  "language_info": {
   "codemirror_mode": {
    "name": "ipython",
    "version": 3
   },
   "file_extension": ".py",
   "mimetype": "text/x-python",
   "name": "python",
   "nbconvert_exporter": "python",
   "pygments_lexer": "ipython3",
   "version": "3.10.12"
  }
 },
 "nbformat": 4,
 "nbformat_minor": 5
}
